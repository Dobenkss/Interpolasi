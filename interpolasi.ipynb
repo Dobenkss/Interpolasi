{
  "nbformat": 4,
  "nbformat_minor": 0,
  "metadata": {
    "colab": {
      "provenance": [],
      "authorship_tag": "ABX9TyM9QWpfE2JtQp9V+TIC7fI9",
      "include_colab_link": true
    },
    "kernelspec": {
      "name": "python3",
      "display_name": "Python 3"
    },
    "language_info": {
      "name": "python"
    }
  },
  "cells": [
    {
      "cell_type": "markdown",
      "metadata": {
        "id": "view-in-github",
        "colab_type": "text"
      },
      "source": [
        "<a href=\"https://colab.research.google.com/github/Dobenkss/Interpolasi/blob/main/interpolasi.ipynb\" target=\"_parent\"><img src=\"https://colab.research.google.com/assets/colab-badge.svg\" alt=\"Open In Colab\"/></a>"
      ]
    },
    {
      "cell_type": "markdown",
      "source": [
        "NAMA : ABHIPRAYA RASENDRIYA ATMA ARDANY <BR>\n",
        "NIM : 24.21.1587 <BR>\n",
        "KELAS : IF10 <BR>\n",
        "LINK : https://colab.research.google.com/drive/188sC_05PA4LZeWYC7-927W9NQ6Y_-WeF?usp=sharing"
      ],
      "metadata": {
        "id": "UjD5loVNsZ-N"
      }
    },
    {
      "cell_type": "markdown",
      "source": [
        "# MODUL"
      ],
      "metadata": {
        "id": "KYuFNjdls47V"
      }
    },
    {
      "cell_type": "markdown",
      "source": [
        "1. Interpolasi Linear"
      ],
      "metadata": {
        "id": "TcLSP0P8tPU8"
      }
    },
    {
      "cell_type": "code",
      "execution_count": null,
      "metadata": {
        "colab": {
          "base_uri": "https://localhost:8080/"
        },
        "id": "QPXGxWYsgMcQ",
        "outputId": "fe81b0e6-a433-4a2b-f1a6-1040048941e5"
      },
      "outputs": [
        {
          "output_type": "stream",
          "name": "stdout",
          "text": [
            "Masukkan nilai x1: 1\n",
            "Masukkan nilai y1: 0\n",
            "Masukkan nilai x2: 6\n",
            "Masukkan nilai y2: 3\n",
            "Masukkan nilai x yang ingin diperkirakan: 2\n",
            "\n",
            "Langkah 1: Diketahui dua titik:\n",
            "Titik pertama (x1, y1) = (1.0, 0.0)\n",
            "Titik kedua (x2, y2) (6.0, 3.0)\n",
            "\n",
            "Langkah 2: Rumus interpolasi linear adalah:\n",
            "yy1+ ((xx1) / (x2x1)) (y2 y1)\n",
            "\n",
            "Langkah 3: Menghitung nilai y untuk x = 2.0:\n",
            "y = 0.0 + ((2.0 - 1.0) / (6.0 - 1.0)) * (3.0 - 0.0)\n",
            "y = 0.0 + ((2.0 - 1.0) / (6.0 - 1.0)) * (3.0 - 0.0)\n",
            "y = 0.6000000000000001\n",
            "\n",
            "Hasil interpolasi: Nilai y pada x = 2.0 adalah 0.6000000000000001\n"
          ]
        }
      ],
      "source": [
        "def interpolasi_linear(x1, y1, x2, y2, x):\n",
        "    # Memastikan x1 dan x2 tidak sama (untuk menghindari pembagian dengan nol)\n",
        "    if x2 == x1:\n",
        "        raise ValueError(\"x1 dan x2 tidak boleh sama, karena pembagi akan nol.\")\n",
        "\n",
        "    # Langkah 1: Menampilkan input awal\n",
        "    print(f\"\\nLangkah 1: Diketahui dua titik:\")\n",
        "    print(f\"Titik pertama (x1, y1) = ({x1}, {y1})\")\n",
        "    print(f\"Titik kedua (x2, y2) ({x2}, {y2})\")\n",
        "\n",
        "    # Langkah 2: Menampilkan rumus interpolasi linear\n",
        "    print(\"\\nLangkah 2: Rumus interpolasi linear adalah:\")\n",
        "    print(\"yy1+ ((xx1) / (x2x1)) (y2 y1)\")\n",
        "\n",
        "    # Langkah 3: Menghitung nilai interpolasi\n",
        "    # Menghitung nilai y berdasarkan rumus interpolasi linear yy1+ ((xx1)/(x2x1))* (y2y1)\n",
        "    y = y1 + ((x - x1) / (x2 - x1)) * (y2 - y1)\n",
        "\n",
        "    # Langkah 4: Menampilkan langkah perhitungan\n",
        "    print(f\"\\nLangkah 3: Menghitung nilai y untuk x = {x}:\")\n",
        "    print(f\"y = {y1} + (({x} - {x1}) / ({x2} - {x1})) * ({y2} - {y1})\")\n",
        "    print(f\"y = {y1} + (({x} - {x1}) / ({x2} - {x1})) * ({y2} - {y1})\")\n",
        "    print(f\"y = {y}\")\n",
        "\n",
        "    return y\n",
        "\n",
        "def ambil_input():\n",
        "    3\n",
        "    try:\n",
        "        # Mengambil input untuk titik pertama\n",
        "        x1 = float(input(\"Masukkan nilai x1: \"))\n",
        "        y1 = float(input(\"Masukkan nilai y1: \"))\n",
        "\n",
        "        # Mengambil input untuk titik kedua\n",
        "        x2= float(input(\"Masukkan nilai x2: \"))\n",
        "        y2= float(input(\"Masukkan nilai y2: \"))\n",
        "\n",
        "        # Mengambil nilai x yang ingin diperkirakan\n",
        "        x = float(input(\"Masukkan nilai x yang ingin diperkirakan: \"))\n",
        "\n",
        "        # Memanggil fungsi interpolasi dan menampilkan hasil\n",
        "        y = interpolasi_linear (x1, y1, x2, y2, x)\n",
        "        print(f\"\\nHasil interpolasi: Nilai y pada x = {x} adalah {y}\")\n",
        "\n",
        "    except ValueError as e:\n",
        "        print(f\"Terjadi kesalahan: {e}\")\n",
        "\n",
        "        # Meminta input ulang jika terjadi kesalahan\n",
        "        ambil_input()\n",
        "\n",
        "# Menjalankan fungsi untuk mengambil input dan menghitung interpolasi\n",
        "ambil_input()"
      ]
    },
    {
      "cell_type": "markdown",
      "source": [
        "2. Interpolasi Lagrance"
      ],
      "metadata": {
        "id": "qq6ovzOvtSfM"
      }
    },
    {
      "cell_type": "code",
      "source": [
        "def lagrange_basis(x_values, i, x):\n",
        "    \"Fungsi untuk menghitung basis polinom Lagrange L_i(x) untuk titik i.\"\n",
        "    n = len(x_values)\n",
        "    basis = 1\n",
        "    for j in range(n):\n",
        "        # The problem is here. The original condition was if j != 1, it should be j != i\n",
        "        if j != i:  # Changed condition to ensure i and j are not the same\n",
        "            basis *= (x - x_values[j]) / (x_values[i] - x_values[j])\n",
        "    return basis\n",
        "\n",
        "def interpolasi_lagrange (x_values, y_values, x):\n",
        "    \"Fungsi untuk interpolasi Lagrange dan langkah-langkah perhitungannya.\"\n",
        "    n = len(x_values)\n",
        "    y = 0\n",
        "    langkah_perhitungan = [] # Untuk menyimpan langkah-langkah perhitungan\n",
        "\n",
        "    #11 Langkah 1: Menampilkan input awal\n",
        "    print(f\"\\nLangkah 1: Diketahui titik-titik data:\")\n",
        "    for i in range(n):\n",
        "        print(f\"Titik ke-{i}: ({x_values[i]}, {y_values[i]})\")\n",
        "\n",
        "    # Langkah 2: Menghitung polinom interpolasi Lagrange\n",
        "    print(\"\\nLangkah 2: Menghitung nilai Lagrange untuk setiap titik i:\")\n",
        "    for i in range(n):\n",
        "        basis = lagrange_basis (x_values, i, x)\n",
        "        langkah_perhitungan.append(f\"L_{i}({x}) = {basis:.4f}\")\n",
        "        y += y_values[i] * basis\n",
        "\n",
        "    # Langkah 3: Menampilkan langkah perhitungan\n",
        "    print(\"\\nLangkah 3: perhitungan setiap Lagrange dan hasil akhirnya:\")\n",
        "    for langkah in langkah_perhitungan:\n",
        "        print(langkah)\n",
        "\n",
        "    print(f\"\\nLangkah 4: Hitung nilai y untuk x = {x} interpolasi Lagrange:\")\n",
        "    print(f\"y = ∑(y_i * L_i(x)) untuk semua i, di mana y = {y:.4f}\")\n",
        "\n",
        "    return y\n",
        "\n",
        "def ambil_input():\n",
        "    \"Fungsi untuk mengambil input dan menampilkan perhitungan rinci\"\n",
        "    try:\n",
        "\n",
        "        #Jumlah titik\n",
        "        n = int(input(\"Masukkan jumlah titik data: \"))\n",
        "\n",
        "        x_values = []\n",
        "        y_values = []\n",
        "\n",
        "        # Input titik data\n",
        "        for i in range(n):\n",
        "            x = float(input(f\"Masukkan nilai x{str(i)}: \"))\n",
        "            y = float(input(f\"Masukkan nilai y{str(i)}: \"))\n",
        "            x_values.append(x)\n",
        "            y_values.append(y)\n",
        "\n",
        "\n",
        "        # Nilai x yang ingin diperkirakan\n",
        "        x = float(input(\"Masukkan nilai x yang ingin diperkirakan: \"))\n",
        "\n",
        "        # Fungsi interpolasi dan menampilkan hasil\n",
        "        y = interpolasi_lagrange(x_values, y_values, x)\n",
        "        print(f\"\\nHasil interpolasi: Nilai y pada x = {x} adalah {y:.4f}\")\n",
        "\n",
        "    except ValueError as e:\n",
        "        print(f\"Terjadi kesalahan: {e}\")\n",
        "\n",
        "        #input ulang jika terjadi kesalahan\n",
        "        ambil_input()\n",
        "\n",
        "# Menjalankan fungsi untuk mengambil input dan menghitung interpolasi\n",
        "ambil_input()"
      ],
      "metadata": {
        "colab": {
          "base_uri": "https://localhost:8080/"
        },
        "id": "lUzlxLL_tXeg",
        "outputId": "7bd9a233-8344-487b-c882-9bc5720221b0"
      },
      "execution_count": null,
      "outputs": [
        {
          "name": "stdout",
          "output_type": "stream",
          "text": [
            "Masukkan jumlah titik data: 7\n",
            "Masukkan nilai x0: 1\n",
            "Masukkan nilai y0: 1\n",
            "Masukkan nilai x1: 10\n",
            "Masukkan nilai y1: 20\n",
            "Masukkan nilai x2: 20\n",
            "Masukkan nilai y2: 38\n",
            "Masukkan nilai x3: 30\n",
            "Masukkan nilai y3: 60\n",
            "Masukkan nilai x4: 40\n",
            "Masukkan nilai y4: 85\n",
            "Masukkan nilai x5: 50\n",
            "Masukkan nilai y5: 98\n"
          ]
        }
      ]
    },
    {
      "cell_type": "markdown",
      "source": [
        "# PERCOBAAN"
      ],
      "metadata": {
        "id": "PocLC85qtIg8"
      }
    },
    {
      "cell_type": "code",
      "source": [
        "def lagrange_basis(x_values, i, x):\n",
        "    \"Fungsi untuk menghitung basis polinom Lagrange L_i(x) untuk titik i.\"\n",
        "    n = len(x_values)\n",
        "    basis = 1\n",
        "    for j in range(n):\n",
        "        # The problem is here. The original condition was if j != 1, it should be j != i\n",
        "        if j != i:  # Changed condition to ensure i and j are not the same\n",
        "            basis *= (x - x_values[j]) / (x_values[i] - x_values[j])\n",
        "    return basis\n",
        "\n",
        "def interpolasi_lagrange (x_values, y_values, x):\n",
        "    \"Fungsi untuk interpolasi Lagrange dan langkah-langkah perhitungannya.\"\n",
        "    n = len(x_values)\n",
        "    y = 0\n",
        "    langkah_perhitungan = [] # Untuk menyimpan langkah-langkah perhitungan\n",
        "\n",
        "    #11 Langkah 1: Menampilkan input awal\n",
        "    print(f\"\\nLangkah 1: Diketahui titik-titik data:\")\n",
        "    for i in range(n):\n",
        "        print(f\"Titik ke-{i}: ({x_values[i]}, {y_values[i]})\")\n",
        "\n",
        "    # Langkah 2: Menghitung polinom interpolasi Lagrange\n",
        "    print(\"\\nLangkah 2: Menghitung nilai Lagrange untuk setiap titik i:\")\n",
        "    for i in range(n):\n",
        "        basis = lagrange_basis (x_values, i, x)\n",
        "        langkah_perhitungan.append(f\"L_{i}({x}) = {basis:.4f}\")\n",
        "        y += y_values[i] * basis\n",
        "\n",
        "    # Langkah 3: Menampilkan langkah perhitungan\n",
        "    print(\"\\nLangkah 3: perhitungan setiap Lagrange dan hasil akhirnya:\")\n",
        "    for langkah in langkah_perhitungan:\n",
        "        print(langkah)\n",
        "\n",
        "    print(f\"\\nLangkah 4: Hitung nilai y untuk x = {x} interpolasi Lagrange:\")\n",
        "    print(f\"y = ∑(y_i * L_i(x)) untuk semua i, di mana y = {y:.4f}\")\n",
        "\n",
        "    return y\n",
        "\n",
        "def ambil_input():\n",
        "    \"Fungsi untuk mengambil input dan menampilkan perhitungan rinci\"\n",
        "    try:\n",
        "\n",
        "        #Jumlah titik\n",
        "        n = int(input(\"Masukkan jumlah titik data: \"))\n",
        "\n",
        "        x_values = []\n",
        "        y_values = []\n",
        "\n",
        "        # Input titik data\n",
        "        for i in range(n):\n",
        "            x = float(input(f\"Masukkan nilai x{str(i)}: \"))\n",
        "            y = float(input(f\"Masukkan nilai y{str(i)}: \"))\n",
        "            x_values.append(x)\n",
        "            y_values.append(y)\n",
        "\n",
        "\n",
        "        # Nilai x yang ingin diperkirakan\n",
        "        x = float(input(\"Masukkan nilai x yang ingin diperkirakan: \"))\n",
        "\n",
        "        # Fungsi interpolasi dan menampilkan hasil\n",
        "        y = interpolasi_lagrange(x_values, y_values, x)\n",
        "        print(f\"\\nHasil interpolasi: Nilai y pada x = {x} adalah {y:.4f}\")\n",
        "\n",
        "    except ValueError as e:\n",
        "        print(f\"Terjadi kesalahan: {e}\")\n",
        "\n",
        "        #input ulang jika terjadi kesalahan\n",
        "        ambil_input()\n",
        "\n",
        "# Menjalankan fungsi untuk mengambil input dan menghitung interpolasi\n",
        "ambil_input()"
      ],
      "metadata": {
        "colab": {
          "base_uri": "https://localhost:8080/"
        },
        "id": "s8Cc2oQZlaGj",
        "outputId": "0ec74e9f-e7bb-4ce0-f895-f624307d3981"
      },
      "execution_count": null,
      "outputs": [
        {
          "output_type": "stream",
          "name": "stdout",
          "text": [
            "Masukkan jumlah titik data: 10\n",
            "Masukkan nilai x0: 1\n",
            "Masukkan nilai y0: 30\n",
            "Masukkan nilai x1: 2\n",
            "Masukkan nilai y1: 45\n",
            "Masukkan nilai x2: 3\n",
            "Masukkan nilai y2: 65\n",
            "Masukkan nilai x3: 4\n",
            "Masukkan nilai y3: 75\n",
            "Masukkan nilai x4: 5\n",
            "Masukkan nilai y4: 100\n",
            "Masukkan nilai x5: 6\n",
            "Masukkan nilai y5: 120\n",
            "Masukkan nilai x6: 7\n",
            "Masukkan nilai y6: 155\n",
            "Masukkan nilai x7: 8\n",
            "Masukkan nilai y7: 180\n",
            "Masukkan nilai x8: 9\n",
            "Masukkan nilai y8: 200\n",
            "Masukkan nilai x9: 10\n",
            "Masukkan nilai y9: 215\n",
            "Masukkan nilai x yang ingin diperkirakan: 4.5\n",
            "\n",
            "Langkah 1: Diketahui titik-titik data:\n",
            "Titik ke-0: (1.0, 30.0)\n",
            "Titik ke-1: (2.0, 45.0)\n",
            "Titik ke-2: (3.0, 65.0)\n",
            "Titik ke-3: (4.0, 75.0)\n",
            "Titik ke-4: (5.0, 100.0)\n",
            "Titik ke-5: (6.0, 120.0)\n",
            "Titik ke-6: (7.0, 155.0)\n",
            "Titik ke-7: (8.0, 180.0)\n",
            "Titik ke-8: (9.0, 200.0)\n",
            "Titik ke-9: (10.0, 215.0)\n",
            "\n",
            "Langkah 2: Menghitung nilai Lagrange untuk setiap titik i:\n",
            "\n",
            "Langkah 3: perhitungan setiap Lagrange dan hasil akhirnya:\n",
            "L_0(4.5) = -0.0008\n",
            "L_1(4.5) = 0.0106\n",
            "L_2(4.5) = -0.0705\n",
            "L_3(4.5) = 0.4935\n",
            "L_4(4.5) = 0.7402\n",
            "L_5(4.5) = -0.2467\n",
            "L_6(4.5) = 0.0987\n",
            "L_7(4.5) = -0.0302\n",
            "L_8(4.5) = 0.0059\n",
            "L_9(4.5) = -0.0005\n",
            "\n",
            "Langkah 4: Hitung nilai y untuk x = 4.5 interpolasi Lagrange:\n",
            "y = ∑(y_i * L_i(x)) untuk semua i, di mana y = 88.2103\n",
            "\n",
            "Hasil interpolasi: Nilai y pada x = 4.5 adalah 88.2103\n"
          ]
        }
      ]
    }
  ]
}